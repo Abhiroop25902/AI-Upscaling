{
  "nbformat": 4,
  "nbformat_minor": 0,
  "metadata": {
    "accelerator": "GPU",
    "colab": {
      "name": "Video AI Upscaling",
      "provenance": [],
      "authorship_tag": "ABX9TyOy/xgecTxmL+GNpK7fdEZA",
      "include_colab_link": true
    },
    "kernelspec": {
      "display_name": "Python 3",
      "name": "python3"
    },
    "language_info": {
      "name": "python"
    },
    "widgets": {
      "application/vnd.jupyter.widget-state+json": {
        "5039968afcf44256acdb2947f04a1855": {
          "model_module": "@jupyter-widgets/controls",
          "model_name": "HBoxModel",
          "model_module_version": "1.5.0",
          "state": {
            "_view_name": "HBoxView",
            "_dom_classes": [],
            "_model_name": "HBoxModel",
            "_view_module": "@jupyter-widgets/controls",
            "_model_module_version": "1.5.0",
            "_view_count": null,
            "_view_module_version": "1.5.0",
            "box_style": "",
            "layout": "IPY_MODEL_c1a1a2ed1df54693ba7fd6898421ed5d",
            "_model_module": "@jupyter-widgets/controls",
            "children": [
              "IPY_MODEL_ffbc1af0a14940d08fd43649455d12d6",
              "IPY_MODEL_2b010a54419c44f0af0d9578704ddbb2",
              "IPY_MODEL_144212a26c164fb3810fdf0cd72a4f7a"
            ]
          }
        },
        "c1a1a2ed1df54693ba7fd6898421ed5d": {
          "model_module": "@jupyter-widgets/base",
          "model_name": "LayoutModel",
          "model_module_version": "1.2.0",
          "state": {
            "_view_name": "LayoutView",
            "grid_template_rows": null,
            "right": null,
            "justify_content": null,
            "_view_module": "@jupyter-widgets/base",
            "overflow": null,
            "_model_module_version": "1.2.0",
            "_view_count": null,
            "flex_flow": null,
            "width": null,
            "min_width": null,
            "border": null,
            "align_items": null,
            "bottom": null,
            "_model_module": "@jupyter-widgets/base",
            "top": null,
            "grid_column": null,
            "overflow_y": null,
            "overflow_x": null,
            "grid_auto_flow": null,
            "grid_area": null,
            "grid_template_columns": null,
            "flex": null,
            "_model_name": "LayoutModel",
            "justify_items": null,
            "grid_row": null,
            "max_height": null,
            "align_content": null,
            "visibility": null,
            "align_self": null,
            "height": null,
            "min_height": null,
            "padding": null,
            "grid_auto_rows": null,
            "grid_gap": null,
            "max_width": null,
            "order": null,
            "_view_module_version": "1.2.0",
            "grid_template_areas": null,
            "object_position": null,
            "object_fit": null,
            "grid_auto_columns": null,
            "margin": null,
            "display": null,
            "left": null
          }
        },
        "ffbc1af0a14940d08fd43649455d12d6": {
          "model_module": "@jupyter-widgets/controls",
          "model_name": "HTMLModel",
          "model_module_version": "1.5.0",
          "state": {
            "_view_name": "HTMLView",
            "style": "IPY_MODEL_caa33859bde148c6bd460c89aab3f57e",
            "_dom_classes": [],
            "description": "",
            "_model_name": "HTMLModel",
            "placeholder": "​",
            "_view_module": "@jupyter-widgets/controls",
            "_model_module_version": "1.5.0",
            "value": "Processing...: 100%",
            "_view_count": null,
            "_view_module_version": "1.5.0",
            "description_tooltip": null,
            "_model_module": "@jupyter-widgets/controls",
            "layout": "IPY_MODEL_819150eb5ad0482d9f5369b66cc2240f"
          }
        },
        "2b010a54419c44f0af0d9578704ddbb2": {
          "model_module": "@jupyter-widgets/controls",
          "model_name": "FloatProgressModel",
          "model_module_version": "1.5.0",
          "state": {
            "_view_name": "ProgressView",
            "style": "IPY_MODEL_01881a8a45084363929e1488750c5bab",
            "_dom_classes": [],
            "description": "",
            "_model_name": "FloatProgressModel",
            "bar_style": "success",
            "max": 91,
            "_view_module": "@jupyter-widgets/controls",
            "_model_module_version": "1.5.0",
            "value": 91,
            "_view_count": null,
            "_view_module_version": "1.5.0",
            "orientation": "horizontal",
            "min": 0,
            "description_tooltip": null,
            "_model_module": "@jupyter-widgets/controls",
            "layout": "IPY_MODEL_3101a2b3b3f14a738ea1ae28ecd7b9ad"
          }
        },
        "144212a26c164fb3810fdf0cd72a4f7a": {
          "model_module": "@jupyter-widgets/controls",
          "model_name": "HTMLModel",
          "model_module_version": "1.5.0",
          "state": {
            "_view_name": "HTMLView",
            "style": "IPY_MODEL_9e59eae7f9ba40018ea0eae98340c22f",
            "_dom_classes": [],
            "description": "",
            "_model_name": "HTMLModel",
            "placeholder": "​",
            "_view_module": "@jupyter-widgets/controls",
            "_model_module_version": "1.5.0",
            "value": " 91/91 [03:55&lt;00:00,  2.59s/it]",
            "_view_count": null,
            "_view_module_version": "1.5.0",
            "description_tooltip": null,
            "_model_module": "@jupyter-widgets/controls",
            "layout": "IPY_MODEL_9c760d96373b4be984984f5aeeb53d8e"
          }
        },
        "caa33859bde148c6bd460c89aab3f57e": {
          "model_module": "@jupyter-widgets/controls",
          "model_name": "DescriptionStyleModel",
          "model_module_version": "1.5.0",
          "state": {
            "_view_name": "StyleView",
            "_model_name": "DescriptionStyleModel",
            "description_width": "",
            "_view_module": "@jupyter-widgets/base",
            "_model_module_version": "1.5.0",
            "_view_count": null,
            "_view_module_version": "1.2.0",
            "_model_module": "@jupyter-widgets/controls"
          }
        },
        "819150eb5ad0482d9f5369b66cc2240f": {
          "model_module": "@jupyter-widgets/base",
          "model_name": "LayoutModel",
          "model_module_version": "1.2.0",
          "state": {
            "_view_name": "LayoutView",
            "grid_template_rows": null,
            "right": null,
            "justify_content": null,
            "_view_module": "@jupyter-widgets/base",
            "overflow": null,
            "_model_module_version": "1.2.0",
            "_view_count": null,
            "flex_flow": null,
            "width": null,
            "min_width": null,
            "border": null,
            "align_items": null,
            "bottom": null,
            "_model_module": "@jupyter-widgets/base",
            "top": null,
            "grid_column": null,
            "overflow_y": null,
            "overflow_x": null,
            "grid_auto_flow": null,
            "grid_area": null,
            "grid_template_columns": null,
            "flex": null,
            "_model_name": "LayoutModel",
            "justify_items": null,
            "grid_row": null,
            "max_height": null,
            "align_content": null,
            "visibility": null,
            "align_self": null,
            "height": null,
            "min_height": null,
            "padding": null,
            "grid_auto_rows": null,
            "grid_gap": null,
            "max_width": null,
            "order": null,
            "_view_module_version": "1.2.0",
            "grid_template_areas": null,
            "object_position": null,
            "object_fit": null,
            "grid_auto_columns": null,
            "margin": null,
            "display": null,
            "left": null
          }
        },
        "01881a8a45084363929e1488750c5bab": {
          "model_module": "@jupyter-widgets/controls",
          "model_name": "ProgressStyleModel",
          "model_module_version": "1.5.0",
          "state": {
            "_view_name": "StyleView",
            "_model_name": "ProgressStyleModel",
            "description_width": "",
            "_view_module": "@jupyter-widgets/base",
            "_model_module_version": "1.5.0",
            "_view_count": null,
            "_view_module_version": "1.2.0",
            "bar_color": null,
            "_model_module": "@jupyter-widgets/controls"
          }
        },
        "3101a2b3b3f14a738ea1ae28ecd7b9ad": {
          "model_module": "@jupyter-widgets/base",
          "model_name": "LayoutModel",
          "model_module_version": "1.2.0",
          "state": {
            "_view_name": "LayoutView",
            "grid_template_rows": null,
            "right": null,
            "justify_content": null,
            "_view_module": "@jupyter-widgets/base",
            "overflow": null,
            "_model_module_version": "1.2.0",
            "_view_count": null,
            "flex_flow": null,
            "width": null,
            "min_width": null,
            "border": null,
            "align_items": null,
            "bottom": null,
            "_model_module": "@jupyter-widgets/base",
            "top": null,
            "grid_column": null,
            "overflow_y": null,
            "overflow_x": null,
            "grid_auto_flow": null,
            "grid_area": null,
            "grid_template_columns": null,
            "flex": null,
            "_model_name": "LayoutModel",
            "justify_items": null,
            "grid_row": null,
            "max_height": null,
            "align_content": null,
            "visibility": null,
            "align_self": null,
            "height": null,
            "min_height": null,
            "padding": null,
            "grid_auto_rows": null,
            "grid_gap": null,
            "max_width": null,
            "order": null,
            "_view_module_version": "1.2.0",
            "grid_template_areas": null,
            "object_position": null,
            "object_fit": null,
            "grid_auto_columns": null,
            "margin": null,
            "display": null,
            "left": null
          }
        },
        "9e59eae7f9ba40018ea0eae98340c22f": {
          "model_module": "@jupyter-widgets/controls",
          "model_name": "DescriptionStyleModel",
          "model_module_version": "1.5.0",
          "state": {
            "_view_name": "StyleView",
            "_model_name": "DescriptionStyleModel",
            "description_width": "",
            "_view_module": "@jupyter-widgets/base",
            "_model_module_version": "1.5.0",
            "_view_count": null,
            "_view_module_version": "1.2.0",
            "_model_module": "@jupyter-widgets/controls"
          }
        },
        "9c760d96373b4be984984f5aeeb53d8e": {
          "model_module": "@jupyter-widgets/base",
          "model_name": "LayoutModel",
          "model_module_version": "1.2.0",
          "state": {
            "_view_name": "LayoutView",
            "grid_template_rows": null,
            "right": null,
            "justify_content": null,
            "_view_module": "@jupyter-widgets/base",
            "overflow": null,
            "_model_module_version": "1.2.0",
            "_view_count": null,
            "flex_flow": null,
            "width": null,
            "min_width": null,
            "border": null,
            "align_items": null,
            "bottom": null,
            "_model_module": "@jupyter-widgets/base",
            "top": null,
            "grid_column": null,
            "overflow_y": null,
            "overflow_x": null,
            "grid_auto_flow": null,
            "grid_area": null,
            "grid_template_columns": null,
            "flex": null,
            "_model_name": "LayoutModel",
            "justify_items": null,
            "grid_row": null,
            "max_height": null,
            "align_content": null,
            "visibility": null,
            "align_self": null,
            "height": null,
            "min_height": null,
            "padding": null,
            "grid_auto_rows": null,
            "grid_gap": null,
            "max_width": null,
            "order": null,
            "_view_module_version": "1.2.0",
            "grid_template_areas": null,
            "object_position": null,
            "object_fit": null,
            "grid_auto_columns": null,
            "margin": null,
            "display": null,
            "left": null
          }
        }
      }
    }
  },
  "cells": [
    {
      "cell_type": "markdown",
      "metadata": {
        "id": "view-in-github",
        "colab_type": "text"
      },
      "source": [
        "<a href=\"https://colab.research.google.com/github/Abhiroop25902/Video-AI-Upscaling/blob/main/Video_AI_Upscaling.ipynb\" target=\"_parent\"><img src=\"https://colab.research.google.com/assets/colab-badge.svg\" alt=\"Open In Colab\"/></a>"
      ]
    },
    {
      "cell_type": "markdown",
      "metadata": {
        "id": "Ql8vWBazqm4m"
      },
      "source": [
        "# Setup \n",
        "\n",
        "Just Run These Code Once to download and import all the pre-requsites"
      ]
    },
    {
      "cell_type": "markdown",
      "metadata": {
        "id": "Jmv2rGyBq1wh"
      },
      "source": [
        "I have already built OpenCV from Source for GPU support, and the first line downloads it's python source code\n",
        "\n",
        "Second Line downloads the EDSR Model"
      ]
    },
    {
      "cell_type": "code",
      "metadata": {
        "colab": {
          "base_uri": "https://localhost:8080/"
        },
        "id": "UJcmV7Sp_Iz7",
        "outputId": "743bfc0d-e835-4e04-f9f3-d75e79546a1f"
      },
      "source": [
        "# https://drive.google.com/file/d/1eiueJcXDqRQGG15pYRO3o-fPJcjxy1j0/view?usp=sharing\n",
        "\n",
        "!gdown --id 1eiueJcXDqRQGG15pYRO3o-fPJcjxy1j0 --output cv2.cpython-37m-x86_64-linux-gnu.so #enable GPU support\n",
        "!gdown --id 11wBtbU0smZKV2UG49e9RzyKkiIAYAXHn --output EDSR_x3.pb "
      ],
      "execution_count": 1,
      "outputs": [
        {
          "output_type": "stream",
          "name": "stdout",
          "text": [
            "Downloading...\n",
            "From: https://drive.google.com/uc?id=1eiueJcXDqRQGG15pYRO3o-fPJcjxy1j0\n",
            "To: /content/cv2.cpython-37m-x86_64-linux-gnu.so\n",
            "100% 1.17G/1.17G [00:04<00:00, 245MB/s]\n",
            "Downloading...\n",
            "From: https://drive.google.com/uc?id=11wBtbU0smZKV2UG49e9RzyKkiIAYAXHn\n",
            "To: /content/EDSR_x3.pb\n",
            "100% 38.5M/38.5M [00:01<00:00, 35.4MB/s]\n"
          ]
        }
      ]
    },
    {
      "cell_type": "markdown",
      "metadata": {
        "id": "jiDm0Ngrrm45"
      },
      "source": [
        "Importing Required Stuff"
      ]
    },
    {
      "cell_type": "code",
      "metadata": {
        "id": "cGJl2P9S-IYB",
        "colab": {
          "base_uri": "https://localhost:8080/"
        },
        "outputId": "6c83f7cf-c865-4bc2-e92d-b8d9c4c5474f"
      },
      "source": [
        "import cv2 as cv\n",
        "print(cv.__version__); #should print \"-dev\" version\n",
        "from cv2 import dnn_superres\n",
        "from tqdm.notebook import tqdm #for google colab progressbar\n",
        "from time import time # for testing purposes"
      ],
      "execution_count": 3,
      "outputs": [
        {
          "output_type": "stream",
          "name": "stdout",
          "text": [
            "4.5.5-dev\n"
          ]
        }
      ]
    },
    {
      "cell_type": "markdown",
      "metadata": {
        "id": "mtU8zs1Ir47Q"
      },
      "source": [
        "# Import Your Own Video"
      ]
    },
    {
      "cell_type": "markdown",
      "metadata": {
        "id": "Zk-9o_Aar8vR"
      },
      "source": [
        "\n",
        "\n",
        "\n",
        "You can directly drag and drop your video to the file explorer in the google colab, but I would not suggest it, primarily because Colab shows only a circular progress bar and no \"time remaining\" thing.\n",
        "\n",
        "Here's what I do:\n",
        "-\tUpload your video to google drive\n",
        "-   Make it's visibility to \"anyone with the link can view\"\n",
        "-   It's share link link will be something like \n",
        "    -   https ://drive.google.com/file/d/`<some key>`/view?usp=sharing\n",
        "-   Add command `!gdown --id <the key> --output <file name>` to any code snippet\n",
        "\n",
        "I have done this already for a sample `network.mp4` file \n",
        "\n",
        "NOTE: RAM Requirements are heavily dependant on original width and height of Video, the max resolution this was able to process in Colab Free was 640x360, anything more than that requires Colab Pro\n",
        "\n",
        "Additional Context: \n",
        "-   900 frames  640x360 video should take 37:44 min to process (2.95 sec/frame)\n",
        "-   120 frames  500x280 video should take 03:48 min to process (1.89 sec/frame)\n",
        "\n"
      ]
    },
    {
      "cell_type": "code",
      "metadata": {
        "colab": {
          "base_uri": "https://localhost:8080/"
        },
        "id": "x9MSMqrZVAGP",
        "outputId": "dc839e4a-13ad-4a2b-d8a8-855e923060b9"
      },
      "source": [
        "# for network.mp4\n",
        "# https://drive.google.com/file/d/18oenWel4G3W2DXMZoKLrwZl3K5yUG__f/view?usp=sharing\n",
        "!gdown --id 18oenWel4G3W2DXMZoKLrwZl3K5yUG__f --output network.mp4\n",
        "\n",
        "# for earth.mp4\n",
        "# https://drive.google.com/file/d/1nrrDVyQBbBo9Gol8T-E-09bnhi4dJ4GS/view?usp=sharing\n",
        "# !gdown --id 1nrrDVyQBbBo9Gol8T-E-09bnhi4dJ4GS --output earth.mp4"
      ],
      "execution_count": null,
      "outputs": [
        {
          "output_type": "stream",
          "text": [
            "Downloading...\n",
            "From: https://drive.google.com/uc?id=18oenWel4G3W2DXMZoKLrwZl3K5yUG__f\n",
            "To: /content/network.mp4\n",
            "\r  0% 0.00/169k [00:00<?, ?B/s]\r100% 169k/169k [00:00<00:00, 5.35MB/s]\n"
          ],
          "name": "stdout"
        }
      ]
    },
    {
      "cell_type": "markdown",
      "metadata": {
        "id": "cJpL_A5YugTP"
      },
      "source": [
        "put `path` as your `<file name>`"
      ]
    },
    {
      "cell_type": "code",
      "metadata": {
        "id": "tAU55MsG-d_i"
      },
      "source": [
        "path = \"network.mp4\"\n",
        "# path = \"earth.mp4\""
      ],
      "execution_count": 4,
      "outputs": []
    },
    {
      "cell_type": "markdown",
      "metadata": {
        "id": "GozMlVi9uoPB"
      },
      "source": [
        "# Inside Functions\n",
        "\n",
        "These two functions are main processing blocks "
      ]
    },
    {
      "cell_type": "markdown",
      "metadata": {
        "id": "Po-g_V2rvUAe"
      },
      "source": [
        "This function loop through the video once and returns fps, total_frames, width and height of the video"
      ]
    },
    {
      "cell_type": "code",
      "metadata": {
        "id": "OS-DszHAHlvo"
      },
      "source": [
        "def video_property(filepath):\n",
        "    \"return (fps, frames, width, height)\"\n",
        "\n",
        "    cap = cv.VideoCapture(filepath)\n",
        "\n",
        "    if (not cap.isOpened()):\n",
        "        raise ValueError('File Not Found: Check given path')\n",
        "\n",
        "    fps = cap.get(cv.CAP_PROP_FPS)\n",
        "    frames = 0\n",
        "    height = width = 0\n",
        "\n",
        "    while True:\n",
        "        ret, img = cap.read()\n",
        "\n",
        "        if not ret:\n",
        "            break\n",
        "\n",
        "        if(frames == 0):\n",
        "            height = img.shape[0]\n",
        "            width = img.shape[1]\n",
        "\n",
        "        frames = frames + 1\n",
        "\n",
        "    cap.release()\n",
        "\n",
        "    return fps, frames, width, height"
      ],
      "execution_count": 5,
      "outputs": []
    },
    {
      "cell_type": "markdown",
      "metadata": {
        "id": "tAGnCnY8vjX9"
      },
      "source": [
        "This is the main processing function, this imports the video and outputs 3 time upscaled video"
      ]
    },
    {
      "cell_type": "code",
      "metadata": {
        "id": "ZF-aPKZGOMv0"
      },
      "source": [
        "def generate_output_video(filepath):\n",
        "\n",
        "    #these parameters depends on video and should be changed\n",
        "    video_fps, video_total_frame, input_video_width, input_video_height = video_property(filepath)\n",
        "\n",
        "    #multiplied by 3 as we are incresing output size by a factor of 3\n",
        "    output_video_width = 3*input_video_width \n",
        "    output_video_height = 3*input_video_height\n",
        "\n",
        "    cap = cv.VideoCapture(filepath)\n",
        "\n",
        "    # Define the codec and create VideoWriter object\n",
        "    fourcc = cv.VideoWriter_fourcc(*'mp4v')\n",
        "    out = cv.VideoWriter('output.mp4',fourcc, video_fps,(output_video_width,output_video_height))\n",
        "\n",
        "    \n",
        "    # Create an Super-Res object\n",
        "    sr = dnn_superres.DnnSuperResImpl_create()\n",
        "\n",
        "    # Read the desired model\n",
        "    sr.readModel(\"EDSR_x3.pb\")\n",
        "    \n",
        "    # Set the desired model and scale to get correct pre- and post-processing\n",
        "    sr.setModel(\"edsr\", 3)\n",
        "\n",
        "    #setting dnn to use CUDA\n",
        "    sr.setPreferableBackend(cv.dnn.DNN_BACKEND_CUDA)\n",
        "    sr.setPreferableTarget(cv.dnn.DNN_TARGET_CUDA)\n",
        "\n",
        "    # initial_time=time()\n",
        "    for i in tqdm (range (video_total_frame), desc=\"Processing...\"):    \n",
        "        # Read image\n",
        "        ret,image = cap.read()\n",
        "\n",
        "        if not ret:\n",
        "            break\n",
        "\n",
        "        # Upscale the image\n",
        "        result = sr.upsample(image)\n",
        "\n",
        "        out.write(result)\n",
        "\n",
        "\n",
        "    #release capture and output videos\n",
        "    cap.release()\n",
        "    out.release()\n",
        "    print(\"Processing Completed, Download 'output.mp4' to View Results\")\n",
        "    # print(f\"Time taken to process the input: {time()-initial_time} seconds\")"
      ],
      "execution_count": 6,
      "outputs": []
    },
    {
      "cell_type": "code",
      "source": [
        "!ls"
      ],
      "metadata": {
        "id": "LJVqI0Blhyn8",
        "colab": {
          "base_uri": "https://localhost:8080/"
        },
        "outputId": "4fc6d6d5-8914-4fa2-880b-32c9bd006c39"
      },
      "execution_count": 7,
      "outputs": [
        {
          "output_type": "stream",
          "name": "stdout",
          "text": [
            "cv2.cpython-37m-x86_64-linux-gnu.so  Google_DSC_Animation_360p.mp4\n",
            "EDSR_x3.pb\t\t\t     sample_data\n"
          ]
        }
      ]
    },
    {
      "cell_type": "markdown",
      "metadata": {
        "id": "lnnf50BPutiY"
      },
      "source": [
        "# Main Executing Code\n",
        "\n",
        "This will generate `output.mp4` upscaled to 3 times height and width of original video"
      ]
    },
    {
      "cell_type": "code",
      "metadata": {
        "colab": {
          "base_uri": "https://localhost:8080/",
          "height": 66,
          "referenced_widgets": [
            "5039968afcf44256acdb2947f04a1855",
            "c1a1a2ed1df54693ba7fd6898421ed5d",
            "ffbc1af0a14940d08fd43649455d12d6",
            "2b010a54419c44f0af0d9578704ddbb2",
            "144212a26c164fb3810fdf0cd72a4f7a",
            "caa33859bde148c6bd460c89aab3f57e",
            "819150eb5ad0482d9f5369b66cc2240f",
            "01881a8a45084363929e1488750c5bab",
            "3101a2b3b3f14a738ea1ae28ecd7b9ad",
            "9e59eae7f9ba40018ea0eae98340c22f",
            "9c760d96373b4be984984f5aeeb53d8e"
          ]
        },
        "id": "nf_lwGA1M76O",
        "outputId": "fa1494c0-a762-45d3-adea-3826d0cbc1c8"
      },
      "source": [
        "generate_output_video(path)"
      ],
      "execution_count": 8,
      "outputs": [
        {
          "output_type": "display_data",
          "data": {
            "application/vnd.jupyter.widget-view+json": {
              "model_id": "5039968afcf44256acdb2947f04a1855",
              "version_minor": 0,
              "version_major": 2
            },
            "text/plain": [
              "Processing...:   0%|          | 0/91 [00:00<?, ?it/s]"
            ]
          },
          "metadata": {}
        },
        {
          "output_type": "stream",
          "name": "stdout",
          "text": [
            "Processing Completed, Download 'output.mp4' to View Results\n"
          ]
        }
      ]
    }
  ]
}